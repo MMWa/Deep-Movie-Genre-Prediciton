{
 "cells": [
  {
   "cell_type": "code",
   "execution_count": 0,
   "metadata": {
    "colab": {},
    "colab_type": "code",
    "id": "BB4i32aKNE92"
   },
   "outputs": [],
   "source": [
    "import pandas as pd"
   ]
  },
  {
   "cell_type": "code",
   "execution_count": 4,
   "metadata": {
    "colab": {
     "base_uri": "https://localhost:8080/",
     "height": 71
    },
    "colab_type": "code",
    "id": "FbUG5pyDNK9x",
    "outputId": "b1bf895a-95ce-406d-9f99-974132465a85"
   },
   "outputs": [
    {
     "name": "stderr",
     "output_type": "stream",
     "text": [
      "/usr/local/lib/python3.6/dist-packages/IPython/core/interactiveshell.py:2718: DtypeWarning: Columns (10) have mixed types. Specify dtype option on import or set low_memory=False.\n",
      "  interactivity=interactivity, compiler=compiler, result=result)\n"
     ]
    }
   ],
   "source": [
    "data_raw = pd.read_csv(\"data/movies_metadata.csv\")\n",
    "\n",
    "# only keep the needed columns\n",
    "data = data_raw[[\"overview\",\"title\",\"genres\"]]\n",
    "data = data[~data['overview'].isna()]\n",
    "\n",
    "# create a mask indication where a genre value exists\n",
    "has_genres_mask = data['genres'] != \"[]\"\n",
    "genres = data['genres'][has_genres_mask]"
   ]
  },
  {
   "cell_type": "markdown",
   "metadata": {},
   "source": [
    "AST allows us to evaluate the string list in each genre entry, basically creates a list from a string with list content."
   ]
  },
  {
   "cell_type": "code",
   "execution_count": null,
   "metadata": {
    "colab": {},
    "colab_type": "code",
    "id": "tOtGHApuNSAy"
   },
   "outputs": [],
   "source": [
    "import ast\n",
    "\n",
    "def make_labels(strings):\n",
    "    evaluated_string = ast.literal_eval(strings)\n",
    "    return [g['name'] for g in evaluated_string]\n",
    "\n",
    "genres_list = genres.apply(make_labels)"
   ]
  },
  {
   "cell_type": "markdown",
   "metadata": {},
   "source": [
    "The MultiLabelBinarizer was used as it gives a simple and fast way of finding all the classes in a column.\n",
    "\n",
    "Many of the classes where removed from the overall class list, as they had a small count.\n",
    "For example \n",
    "```\n",
    "['Aniplex', 'BROSTA TV', 'Carousel Productions']\n",
    "```\n",
    "All had one occurence each."
   ]
  },
  {
   "cell_type": "code",
   "execution_count": 6,
   "metadata": {
    "colab": {
     "base_uri": "https://localhost:8080/",
     "height": 105
    },
    "colab_type": "code",
    "id": "roRvhkbbNV5O",
    "outputId": "7e107d45-8257-4490-f9b3-a3a7e54c0e14"
   },
   "outputs": [
    {
     "name": "stdout",
     "output_type": "stream",
     "text": [
      "['Action' 'Adventure' 'Comedy' 'Crime' 'Documentary' 'Horror' 'Romance'\n",
      " 'Science Fiction' 'Thriller']\n"
     ]
    },
    {
     "name": "stderr",
     "output_type": "stream",
     "text": [
      "/usr/local/lib/python3.6/dist-packages/sklearn/preprocessing/label.py:951: UserWarning: unknown class(es) ['Animation', 'Aniplex', 'BROSTA TV', 'Carousel Productions', 'Drama', 'Family', 'Fantasy', 'Foreign', 'GoHands', 'History', 'Mardock Scramble Production Committee', 'Music', 'Mystery', 'Odyssey Media', 'Pulser Productions', 'Rogue State', 'Sentai Filmworks', 'TV Movie', 'Telescene Film Group Productions', 'The Cartel', 'Vision View Entertainment', 'War', 'Western'] will be ignored\n",
      "  .format(sorted(unknown, key=str)))\n"
     ]
    }
   ],
   "source": [
    "from sklearn.preprocessing import MultiLabelBinarizer\n",
    "\"\"\"\n",
    "the MultiLabelBinarizer simply looks through all entries in a list and creates list containing unique labels.\n",
    "\"\"\"\n",
    "labeler = MultiLabelBinarizer()\n",
    "labeler.fit(genres_list)\n",
    "\n",
    "full_labels = labeler.transform(genres_list)\n",
    "\"\"\"\n",
    "Remove all the redundant classes, some of the genres contain one entry.\n",
    "\"\"\"\n",
    "top = sorted(list(zip(full_labels.sum(axis=0), labeler.classes_)))[::-1]\n",
    "top_genres = sorted([t[1] for t in top][1:10])\n",
    "\n",
    "top_labeler = MultiLabelBinarizer(classes=top_genres)\n",
    "top_labeler.fit(genres_list)\n",
    "\n",
    "print(top_labeler.classes_)\n",
    "\"\"\"\n",
    "now we have a binary list representing the genres.\n",
    "this can be used directly in the training\n",
    "\"\"\"\n",
    "y = top_labeler.transform(genres_list)\n",
    "\n",
    "\"\"\"\n",
    "Check if the sum of all entries is zero\n",
    "\"\"\"\n",
    "no_labels_mask = y.sum(axis=1)==0"
   ]
  },
  {
   "cell_type": "markdown",
   "metadata": {},
   "source": [
    "Since we removed many classes from the dataset, the input data needs to reflect this change, by not having any empty classes.\n",
    "This is done by removing all the already empty classes, then removing all sets after class reduction."
   ]
  },
  {
   "cell_type": "code",
   "execution_count": 0,
   "metadata": {
    "colab": {},
    "colab_type": "code",
    "id": "NrAGC9Q4NV13"
   },
   "outputs": [],
   "source": [
    "pre_1_X1 = data['title'][has_genres_mask].astype(dtype=\"str\")\n",
    "pre_1_X2 = data['overview'][has_genres_mask].astype(dtype=\"str\")\n",
    "\n",
    "pre_X1 = pre_1_X1[~no_labels_mask]\n",
    "pre_X2 = pre_1_X2[~no_labels_mask]\n",
    "y = y[~no_labels_mask]"
   ]
  },
  {
   "cell_type": "code",
   "execution_count": 8,
   "metadata": {
    "colab": {
     "base_uri": "https://localhost:8080/",
     "height": 68
    },
    "colab_type": "code",
    "id": "-TDM_dK1NkjN",
    "outputId": "e4292a10-d04b-47b2-ed61-1f9d5a285975"
   },
   "outputs": [
    {
     "name": "stdout",
     "output_type": "stream",
     "text": [
      "33772\n",
      "33772\n",
      "33772\n"
     ]
    }
   ],
   "source": [
    "\"\"\"\n",
    "Just checking the size of all entries, Now we are sure everything is aligned correctly\n",
    "\"\"\"\n",
    "print(len(y))\n",
    "print(len(pre_X1))\n",
    "print(len(pre_X2))"
   ]
  },
  {
   "cell_type": "code",
   "execution_count": 0,
   "metadata": {
    "colab": {},
    "colab_type": "code",
    "id": "P6IVCRe2Nmmr"
   },
   "outputs": [],
   "source": [
    "from tensorflow import keras\n",
    "import tensorflow as tf"
   ]
  },
  {
   "cell_type": "code",
   "execution_count": 0,
   "metadata": {
    "colab": {},
    "colab_type": "code",
    "id": "Icp66pwHNqAF"
   },
   "outputs": [],
   "source": [
    "# The maximum number of words to be used.\n",
    "MAX_NB_WORDS = 50000\n",
    "EMBEDDING_DIM = 100 # This is a fixed value, in this case\n",
    "tokenizer = keras.preprocessing.text.Tokenizer(num_words=MAX_NB_WORDS, filters='!\"#$%&()*+,-./:;<=>?@[\\]^_`{|}~', lower=True)\n",
    "tokenizer.fit_on_texts(pre_X1 + pre_X2)\n",
    "word_index = tokenizer.word_index"
   ]
  },
  {
   "cell_type": "code",
   "execution_count": 11,
   "metadata": {
    "colab": {
     "base_uri": "https://localhost:8080/",
     "height": 34
    },
    "colab_type": "code",
    "id": "AFeytmldNr5h",
    "outputId": "16eb320f-70de-4119-8c9a-cdc92deae971"
   },
   "outputs": [
    {
     "data": {
      "text/plain": [
       "['model/tokenizer.joblib']"
      ]
     },
     "execution_count": 11,
     "metadata": {
      "tags": []
     },
     "output_type": "execute_result"
    }
   ],
   "source": [
    "from joblib import dump\n",
    "\n",
    "dump(top_labeler, \"model/class_labeler.joblib\")\n",
    "dump(tokenizer, \"model/tokenizer.joblib\")"
   ]
  },
  {
   "cell_type": "code",
   "execution_count": 0,
   "metadata": {
    "colab": {},
    "colab_type": "code",
    "id": "WzXZnqeZNt8f"
   },
   "outputs": [],
   "source": [
    "import numpy as np\n",
    "def max_len(array_):\n",
    "    max_l = 0\n",
    "    for x in array_:\n",
    "        if len(x) > max_l:\n",
    "            max_l = len(x)\n",
    "    return max_l\n",
    "X1 = tokenizer.texts_to_sequences(pre_X1)\n",
    "X2 = tokenizer.texts_to_sequences(pre_X2)\n",
    "\n",
    "X1_max_len = max_len(X1)\n",
    "X2_max_len = max_len(X2)\n",
    "\n",
    "X1 = keras.preprocessing.sequence.pad_sequences(X1, maxlen=X1_max_len)\n",
    "X2 = keras.preprocessing.sequence.pad_sequences(X2, maxlen=X2_max_len)"
   ]
  },
  {
   "cell_type": "markdown",
   "metadata": {},
   "source": [
    "This section attempted to split the data into training and validation sets.\n",
    "\n",
    "However, this was scrapped in favor of letting the fit function deal with the validation split."
   ]
  },
  {
   "cell_type": "code",
   "execution_count": 13,
   "metadata": {
    "colab": {
     "base_uri": "https://localhost:8080/",
     "height": 54
    },
    "colab_type": "code",
    "id": "1libqAGONwjR",
    "outputId": "f21f2313-54d9-483a-a4b2-160f23dfa354"
   },
   "outputs": [
    {
     "data": {
      "text/plain": [
       "'\\nthis section attempted to split the data into training and validation sets\\nHowever, this was scrapped in favor of letting the fit function\\ndeal with the validation split\\n'"
      ]
     },
     "execution_count": 13,
     "metadata": {
      "tags": []
     },
     "output_type": "execute_result"
    }
   ],
   "source": [
    "# from sklearn.model_selection import train_test_split\n",
    "# \n",
    "# X1_train, X1_test = train_test_split(X1, shuffle = False)\n",
    "# X2_train, X2_test = train_test_split(X2, shuffle = False)\n",
    "# Y_train, Y_test = train_test_split(y, shuffle = False)\n",
    "\n",
    "# print(X1_train.shape,Y_train.shape)\n",
    "# print(X1_test.shape,Y_test.shape)"
   ]
  },
  {
   "cell_type": "code",
   "execution_count": 14,
   "metadata": {
    "colab": {
     "base_uri": "https://localhost:8080/",
     "height": 309
    },
    "colab_type": "code",
    "id": "zf7Mxdt4Nyzo",
    "outputId": "8136ec46-41a7-4202-af10-cba49bd70095"
   },
   "outputs": [
    {
     "name": "stderr",
     "output_type": "stream",
     "text": [
      "WARNING: Logging before flag parsing goes to stderr.\n",
      "W0704 23:09:33.509284 140357921113984 deprecation_wrapper.py:119] From /usr/local/lib/python3.6/dist-packages/keras/backend/tensorflow_backend.py:74: The name tf.get_default_graph is deprecated. Please use tf.compat.v1.get_default_graph instead.\n",
      "\n",
      "W0704 23:09:33.526669 140357921113984 deprecation_wrapper.py:119] From /usr/local/lib/python3.6/dist-packages/keras/backend/tensorflow_backend.py:517: The name tf.placeholder is deprecated. Please use tf.compat.v1.placeholder instead.\n",
      "\n",
      "W0704 23:09:33.529930 140357921113984 deprecation_wrapper.py:119] From /usr/local/lib/python3.6/dist-packages/keras/backend/tensorflow_backend.py:4138: The name tf.random_uniform is deprecated. Please use tf.random.uniform instead.\n",
      "\n",
      "W0704 23:09:33.549435 140357921113984 deprecation_wrapper.py:119] From /usr/local/lib/python3.6/dist-packages/keras/backend/tensorflow_backend.py:133: The name tf.placeholder_with_default is deprecated. Please use tf.compat.v1.placeholder_with_default instead.\n",
      "\n",
      "W0704 23:09:33.558836 140357921113984 deprecation.py:506] From /usr/local/lib/python3.6/dist-packages/keras/backend/tensorflow_backend.py:3445: calling dropout (from tensorflow.python.ops.nn_ops) with keep_prob is deprecated and will be removed in a future version.\n",
      "Instructions for updating:\n",
      "Please use `rate` instead of `keep_prob`. Rate should be set to `rate = 1 - keep_prob`.\n",
      "W0704 23:09:35.313047 140357921113984 deprecation_wrapper.py:119] From /usr/local/lib/python3.6/dist-packages/keras/optimizers.py:790: The name tf.train.Optimizer is deprecated. Please use tf.compat.v1.train.Optimizer instead.\n",
      "\n",
      "W0704 23:09:35.328587 140357921113984 deprecation_wrapper.py:119] From /usr/local/lib/python3.6/dist-packages/keras/backend/tensorflow_backend.py:3295: The name tf.log is deprecated. Please use tf.math.log instead.\n",
      "\n"
     ]
    }
   ],
   "source": [
    "\"\"\"\n",
    "load the classifier we constructed\n",
    "\"\"\"\n",
    "from model import GenreClassifier\n",
    "\n",
    "model = GenreClassifier(len(top_labeler.classes_), MAX_NB_WORDS, X1_max_len, X2_max_len)"
   ]
  },
  {
   "cell_type": "markdown",
   "metadata": {},
   "source": [
    "Train the classifier\n",
    "\n",
    "The specified batch size requires lots of memory, consider reducing the value on first run.\n",
    "\n",
    "The model checkpoint is setup in a way to only save models when the valuation accuracy has increased. \n",
    "The valuation accuracy is used as opposed to the training accuracy as it reflects true generalization on the data, rather than \"memorized\" entries.\n"
   ]
  },
  {
   "cell_type": "code",
   "execution_count": 15,
   "metadata": {
    "colab": {
     "base_uri": "https://localhost:8080/",
     "height": 1000
    },
    "colab_type": "code",
    "id": "rTF2M3xwN4-J",
    "outputId": "d51f1e59-1896-43da-d073-cd40b0e41da2"
   },
   "outputs": [
    {
     "name": "stderr",
     "output_type": "stream",
     "text": [
      "W0704 23:09:35.518960 140357921113984 deprecation.py:323] From /usr/local/lib/python3.6/dist-packages/tensorflow/python/ops/math_grad.py:1250: add_dispatch_support.<locals>.wrapper (from tensorflow.python.ops.array_ops) is deprecated and will be removed in a future version.\n",
      "Instructions for updating:\n",
      "Use tf.where in 2.0, which has the same broadcast rule as np.where\n"
     ]
    },
    {
     "name": "stdout",
     "output_type": "stream",
     "text": [
      "Train on 27017 samples, validate on 6755 samples\n",
      "Epoch 1/60\n",
      "27017/27017 [==============================] - 20s 729us/step - loss: 3.2770 - acc: 0.2800 - val_loss: 7.9840 - val_acc: 0.3281\n",
      "Epoch 2/60\n",
      "27017/27017 [==============================] - 15s 562us/step - loss: 2.6124 - acc: 0.4329 - val_loss: 12.6696 - val_acc: 0.3281\n",
      "Epoch 3/60\n",
      "27017/27017 [==============================] - 15s 568us/step - loss: 2.3628 - acc: 0.5071 - val_loss: 11.9694 - val_acc: 0.1557\n",
      "Epoch 4/60\n",
      "27017/27017 [==============================] - 16s 574us/step - loss: 2.0394 - acc: 0.5579 - val_loss: 11.9809 - val_acc: 0.1563\n",
      "Epoch 5/60\n",
      "27017/27017 [==============================] - 15s 570us/step - loss: 1.8182 - acc: 0.5966 - val_loss: 12.1584 - val_acc: 0.1893\n",
      "Epoch 6/60\n",
      "27017/27017 [==============================] - 15s 568us/step - loss: 1.6659 - acc: 0.6249 - val_loss: 11.5536 - val_acc: 0.1590\n",
      "Epoch 7/60\n",
      "27017/27017 [==============================] - 15s 565us/step - loss: 1.5412 - acc: 0.6437 - val_loss: 5.1857 - val_acc: 0.2201\n",
      "Epoch 8/60\n",
      "27017/27017 [==============================] - 15s 568us/step - loss: 1.4479 - acc: 0.6700 - val_loss: 6.1047 - val_acc: 0.3862\n",
      "Epoch 9/60\n",
      "27017/27017 [==============================] - 15s 569us/step - loss: 1.3775 - acc: 0.6756 - val_loss: 8.0302 - val_acc: 0.2163\n",
      "Epoch 10/60\n",
      "27017/27017 [==============================] - 15s 570us/step - loss: 1.3269 - acc: 0.6923 - val_loss: 7.8208 - val_acc: 0.1383\n",
      "Epoch 11/60\n",
      "27017/27017 [==============================] - 15s 567us/step - loss: 1.2818 - acc: 0.6975 - val_loss: 7.3478 - val_acc: 0.3976\n",
      "Epoch 12/60\n",
      "27017/27017 [==============================] - 15s 567us/step - loss: 1.2454 - acc: 0.7040 - val_loss: 8.9191 - val_acc: 0.1362\n",
      "Epoch 13/60\n",
      "27017/27017 [==============================] - 15s 568us/step - loss: 1.2215 - acc: 0.7099 - val_loss: 4.9477 - val_acc: 0.3714\n",
      "Epoch 14/60\n",
      "27017/27017 [==============================] - 15s 569us/step - loss: 1.1928 - acc: 0.7096 - val_loss: 5.1622 - val_acc: 0.3751\n",
      "Epoch 15/60\n",
      "27017/27017 [==============================] - 15s 570us/step - loss: 1.1700 - acc: 0.7155 - val_loss: 9.5732 - val_acc: 0.2274\n",
      "Epoch 16/60\n",
      "27017/27017 [==============================] - 15s 570us/step - loss: 1.1479 - acc: 0.7204 - val_loss: 6.7655 - val_acc: 0.2232\n",
      "Epoch 17/60\n",
      "27017/27017 [==============================] - 15s 569us/step - loss: 1.1337 - acc: 0.7157 - val_loss: 12.8898 - val_acc: 0.1787\n",
      "Epoch 18/60\n",
      "27017/27017 [==============================] - 15s 569us/step - loss: 1.1578 - acc: 0.7208 - val_loss: 11.7479 - val_acc: 0.1232\n",
      "Epoch 19/60\n",
      "27017/27017 [==============================] - 15s 567us/step - loss: 1.1134 - acc: 0.7197 - val_loss: 7.3540 - val_acc: 0.1295\n",
      "Epoch 20/60\n",
      "27017/27017 [==============================] - 15s 567us/step - loss: 1.1027 - acc: 0.7287 - val_loss: 12.9887 - val_acc: 0.0799\n",
      "Epoch 21/60\n",
      "27017/27017 [==============================] - 15s 568us/step - loss: 1.1043 - acc: 0.7248 - val_loss: 11.2832 - val_acc: 0.2024\n",
      "Epoch 22/60\n",
      "27017/27017 [==============================] - 15s 569us/step - loss: 1.0896 - acc: 0.7234 - val_loss: 8.1043 - val_acc: 0.1454\n",
      "Epoch 23/60\n",
      "27017/27017 [==============================] - 15s 567us/step - loss: 1.0759 - acc: 0.7312 - val_loss: 7.7535 - val_acc: 0.3202\n",
      "Epoch 24/60\n",
      "27017/27017 [==============================] - 15s 567us/step - loss: 1.0652 - acc: 0.7319 - val_loss: 9.1909 - val_acc: 0.3220\n",
      "Epoch 25/60\n",
      "27017/27017 [==============================] - 15s 568us/step - loss: 1.0579 - acc: 0.7304 - val_loss: 10.9508 - val_acc: 0.2856\n",
      "Epoch 26/60\n",
      "27017/27017 [==============================] - 15s 569us/step - loss: 1.0524 - acc: 0.7330 - val_loss: 9.3848 - val_acc: 0.3625\n",
      "Epoch 27/60\n",
      "27017/27017 [==============================] - 15s 572us/step - loss: 1.0445 - acc: 0.7340 - val_loss: 7.0024 - val_acc: 0.4059\n",
      "Epoch 28/60\n",
      "27017/27017 [==============================] - 15s 568us/step - loss: 1.0394 - acc: 0.7347 - val_loss: 8.9539 - val_acc: 0.2650\n",
      "Epoch 29/60\n",
      "27017/27017 [==============================] - 15s 570us/step - loss: 1.0333 - acc: 0.7410 - val_loss: 12.1257 - val_acc: 0.1165\n",
      "Epoch 30/60\n",
      "27017/27017 [==============================] - 15s 569us/step - loss: 1.0314 - acc: 0.7291 - val_loss: 11.6777 - val_acc: 0.2603\n",
      "Epoch 31/60\n",
      "27017/27017 [==============================] - 15s 568us/step - loss: 1.0265 - acc: 0.7365 - val_loss: 7.7411 - val_acc: 0.3024\n",
      "Epoch 32/60\n",
      "27017/27017 [==============================] - 15s 570us/step - loss: 1.0222 - acc: 0.7334 - val_loss: 5.6517 - val_acc: 0.4201\n",
      "Epoch 33/60\n",
      "27017/27017 [==============================] - 15s 569us/step - loss: 1.0199 - acc: 0.7385 - val_loss: 7.4751 - val_acc: 0.2614\n",
      "Epoch 34/60\n",
      "27017/27017 [==============================] - 15s 569us/step - loss: 1.0161 - acc: 0.7342 - val_loss: 8.5476 - val_acc: 0.2367\n",
      "Epoch 35/60\n",
      "27017/27017 [==============================] - 15s 567us/step - loss: 1.0127 - acc: 0.7346 - val_loss: 14.8241 - val_acc: 0.1451\n",
      "Epoch 36/60\n",
      "27017/27017 [==============================] - 15s 567us/step - loss: 1.0109 - acc: 0.7391 - val_loss: 5.2439 - val_acc: 0.3007\n",
      "Epoch 37/60\n",
      "27017/27017 [==============================] - 15s 568us/step - loss: 1.0077 - acc: 0.7342 - val_loss: 6.8683 - val_acc: 0.2949\n",
      "Epoch 38/60\n",
      "27017/27017 [==============================] - 15s 568us/step - loss: 1.0046 - acc: 0.7386 - val_loss: 11.7723 - val_acc: 0.1196\n",
      "Epoch 39/60\n",
      "27017/27017 [==============================] - 15s 566us/step - loss: 1.0017 - acc: 0.7334 - val_loss: 6.9356 - val_acc: 0.3591\n",
      "Epoch 40/60\n",
      "27017/27017 [==============================] - 15s 568us/step - loss: 0.9995 - acc: 0.7415 - val_loss: 9.9923 - val_acc: 0.3714\n",
      "Epoch 41/60\n",
      "27017/27017 [==============================] - 15s 568us/step - loss: 0.9960 - acc: 0.7369 - val_loss: 6.7960 - val_acc: 0.3816\n",
      "Epoch 42/60\n",
      "27017/27017 [==============================] - 15s 569us/step - loss: 0.9960 - acc: 0.7384 - val_loss: 12.2325 - val_acc: 0.1075\n",
      "Epoch 43/60\n",
      "27017/27017 [==============================] - 15s 568us/step - loss: 0.9928 - acc: 0.7385 - val_loss: 7.3204 - val_acc: 0.2708\n",
      "Epoch 44/60\n",
      "27017/27017 [==============================] - 15s 569us/step - loss: 0.9916 - acc: 0.7381 - val_loss: 5.7289 - val_acc: 0.3246\n",
      "Epoch 45/60\n",
      "27017/27017 [==============================] - 15s 569us/step - loss: 0.9877 - acc: 0.7373 - val_loss: 12.6268 - val_acc: 0.1202\n",
      "Epoch 46/60\n",
      "27017/27017 [==============================] - 15s 570us/step - loss: 0.9870 - acc: 0.7426 - val_loss: 6.7100 - val_acc: 0.2401\n",
      "Epoch 47/60\n",
      "27017/27017 [==============================] - 15s 569us/step - loss: 0.9871 - acc: 0.7331 - val_loss: 10.0241 - val_acc: 0.2105\n",
      "Epoch 48/60\n",
      "27017/27017 [==============================] - 15s 569us/step - loss: 0.9841 - acc: 0.7387 - val_loss: 8.7880 - val_acc: 0.3494\n",
      "Epoch 49/60\n",
      "27017/27017 [==============================] - 15s 570us/step - loss: 0.9841 - acc: 0.7396 - val_loss: 9.5452 - val_acc: 0.2456\n",
      "Epoch 50/60\n",
      "27017/27017 [==============================] - 15s 568us/step - loss: 0.9830 - acc: 0.7340 - val_loss: 10.1160 - val_acc: 0.2277\n",
      "Epoch 51/60\n",
      "27017/27017 [==============================] - 15s 572us/step - loss: 0.9807 - acc: 0.7365 - val_loss: 7.7858 - val_acc: 0.3115\n",
      "Epoch 52/60\n",
      "27017/27017 [==============================] - 15s 568us/step - loss: 0.9790 - acc: 0.7439 - val_loss: 10.8530 - val_acc: 0.2018\n",
      "Epoch 53/60\n",
      "27017/27017 [==============================] - 15s 569us/step - loss: 0.9796 - acc: 0.7405 - val_loss: 10.1122 - val_acc: 0.1323\n",
      "Epoch 54/60\n",
      "27017/27017 [==============================] - 15s 570us/step - loss: 0.9785 - acc: 0.7367 - val_loss: 8.8011 - val_acc: 0.2736\n",
      "Epoch 55/60\n",
      "27017/27017 [==============================] - 15s 569us/step - loss: 0.9764 - acc: 0.7377 - val_loss: 9.4748 - val_acc: 0.1790\n",
      "Epoch 56/60\n",
      "27017/27017 [==============================] - 15s 568us/step - loss: 0.9746 - acc: 0.7384 - val_loss: 6.8635 - val_acc: 0.3448\n",
      "Epoch 57/60\n",
      "27017/27017 [==============================] - 15s 570us/step - loss: 0.9736 - acc: 0.7381 - val_loss: 13.7503 - val_acc: 0.1281\n",
      "Epoch 58/60\n",
      "27017/27017 [==============================] - 15s 571us/step - loss: 0.9738 - acc: 0.7338 - val_loss: 11.0745 - val_acc: 0.2425\n",
      "Epoch 59/60\n",
      "27017/27017 [==============================] - 15s 570us/step - loss: 0.9734 - acc: 0.7334 - val_loss: 9.2747 - val_acc: 0.1776\n",
      "Epoch 60/60\n",
      "27017/27017 [==============================] - 15s 568us/step - loss: 0.9718 - acc: 0.7342 - val_loss: 10.4769 - val_acc: 0.3467\n"
     ]
    }
   ],
   "source": [
    "\n",
    "#%%\n",
    "from keras.callbacks import ModelCheckpoint\n",
    "\n",
    "filepath=\"model/weights-epoch-{epoch:02d}-val-acc-{val_acc:.3f}.h5\"\n",
    "\n",
    "checkpoint = ModelCheckpoint(filepath, monitor='val_acc', verbose=0, save_best_only=True, mode='max')\n",
    "callbacks_list = [checkpoint]\n",
    "#%%\n",
    "EPOCHS = 60\n",
    "BATCH_SIZE = 2048\n",
    "history = model.model.fit([X1, X2], y,\n",
    "                    validation_split=0.2,\n",
    "                    epochs=EPOCHS,\n",
    "                    batch_size=BATCH_SIZE,\n",
    "                    shuffle=True,\n",
    "                    callbacks=callbacks_list)"
   ]
  },
  {
   "cell_type": "code",
   "execution_count": 0,
   "metadata": {
    "colab": {},
    "colab_type": "code",
    "id": "rEydg-IjOCrv"
   },
   "outputs": [],
   "source": [
    "import matplotlib.pyplot as plt"
   ]
  },
  {
   "cell_type": "code",
   "execution_count": 17,
   "metadata": {
    "colab": {
     "base_uri": "https://localhost:8080/",
     "height": 281
    },
    "colab_type": "code",
    "id": "r9UovPAtOA4L",
    "outputId": "2306e643-b1df-46a6-f6af-5e9abddeb021"
   },
   "outputs": [
    {
     "data": {
      "image/png": "[encoded data removed]",
      "text/plain": [
       "<Figure size 432x288 with 1 Axes>"
      ]
     },
     "metadata": {
      "tags": []
     },
     "output_type": "display_data"
    }
   ],
   "source": [
    "plt.title('Loss')\n",
    "plt.plot(history.history['loss'], label='train')\n",
    "plt.plot(history.history['val_loss'], label='test')\n",
    "plt.legend()\n",
    "plt.show();"
   ]
  },
  {
   "cell_type": "code",
   "execution_count": 18,
   "metadata": {
    "colab": {
     "base_uri": "https://localhost:8080/",
     "height": 281
    },
    "colab_type": "code",
    "id": "ZWu6b3g_OBxz",
    "outputId": "8da7352c-b2db-43c7-bf76-d830f594a02c"
   },
   "outputs": [
    {
     "data": {
      "image/png": "[encoded data removed]",
      "text/plain": [
       "<Figure size 432x288 with 1 Axes>"
      ]
     },
     "metadata": {
      "tags": []
     },
     "output_type": "display_data"
    }
   ],
   "source": [
    "plt.title('Accuracy')\n",
    "plt.plot(history.history['acc'], label='train')\n",
    "plt.plot(history.history['val_acc'], label='test')\n",
    "plt.legend()\n",
    "plt.show();"
   ]
  },
  {
   "cell_type": "code",
   "execution_count": 0,
   "metadata": {
    "colab": {},
    "colab_type": "code",
    "id": "qovAsUo3OEk4"
   },
   "outputs": [],
   "source": [
    "predictions = model.model.predict([X1, X2], batch_size=2048)"
   ]
  },
  {
   "cell_type": "markdown",
   "metadata": {
    "ExecuteTime": {
     "end_time": "2019-07-05T07:55:32.645498Z",
     "start_time": "2019-07-05T07:55:32.640512Z"
    }
   },
   "source": [
    "The confusion matrix below allows us to see how the predictions compare to the ground truth,\n",
    "the labels from x-axis are omitted from this plot to avoid clutter.\n",
    "\n",
    "Although not prominent or complete there is a distinct diagonal line indicating some degree of recall in the classifier. The classifier seems to have a bias towards the crime class this can be due the multi label property of each input, our classifier only assesses single. Thus, the crime bias might occur as it would occur as a supplementary genre alongside another genre."
   ]
  },
  {
   "cell_type": "code",
   "execution_count": 20,
   "metadata": {
    "colab": {
     "base_uri": "https://localhost:8080/",
     "height": 289
    },
    "colab_type": "code",
    "id": "Q4viCdFAOGGo",
    "outputId": "3ad430a2-9358-4474-a867-75b0283d5b13"
   },
   "outputs": [
    {
     "data": {
      "image/png": "[encoded data removed]",
      "text/plain": [
       "<Figure size 432x288 with 2 Axes>"
      ]
     },
     "metadata": {
      "tags": []
     },
     "output_type": "display_data"
    }
   ],
   "source": [
    "\"\"\"\n",
    "The confusion matrix below allows us to see how the predictions compare to the ground truth,\n",
    "the labels from x-axis are omitted from this plot to avoid clutter.\n",
    "\"\"\"\n",
    "from sklearn import metrics\n",
    "import matplotlib.pyplot as plt\n",
    "\n",
    "matrix = metrics.confusion_matrix(y.argmax(axis=1), predictions.argmax(axis=1))\n",
    "\n",
    "fig = plt.figure()\n",
    "ax = fig.add_subplot(111)\n",
    "cax = ax.matshow(matrix)\n",
    "plt.title('Confusion matrix of the classifier')\n",
    "fig.colorbar(cax)\n",
    "ax.set_xticklabels([''] + top_labeler.classes_)\n",
    "ax.set_yticklabels([''] + top_labeler.classes_)\n",
    "plt.xlabel('Predicted')\n",
    "plt.ylabel('True')\n",
    "plt.show()"
   ]
  },
  {
   "cell_type": "code",
   "execution_count": 0,
   "metadata": {
    "colab": {},
    "colab_type": "code",
    "id": "_9aSvneNNBXU"
   },
   "outputs": [],
   "source": [
    "\n"
   ]
  }
 ],
 "metadata": {
  "accelerator": "GPU",
  "colab": {
   "name": "Untitled10.ipynb",
   "provenance": [],
   "version": "0.3.2"
  },
  "kernelspec": {
   "display_name": "Python 3",
   "language": "python",
   "name": "python3"
  },
  "language_info": {
   "codemirror_mode": {
    "name": "ipython",
    "version": 3
   },
   "file_extension": ".py",
   "mimetype": "text/x-python",
   "name": "python",
   "nbconvert_exporter": "python",
   "pygments_lexer": "ipython3",
   "version": "3.7.1"
  },
  "pycharm": {
   "stem_cell": {
    "cell_type": "raw",
    "metadata": {
     "collapsed": false
    },
    "source": []
   }
  },
  "toc": {
   "base_numbering": 1,
   "nav_menu": {},
   "number_sections": true,
   "sideBar": true,
   "skip_h1_title": false,
   "title_cell": "Table of Contents",
   "title_sidebar": "Contents",
   "toc_cell": false,
   "toc_position": {},
   "toc_section_display": true,
   "toc_window_display": false
  }
 },
 "nbformat": 4,
 "nbformat_minor": 1
}
